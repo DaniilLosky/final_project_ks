{
 "cells": [
  {
   "cell_type": "markdown",
   "id": "e2ad66c3-f9e6-40cb-a616-1de9ee89baab",
   "metadata": {},
   "source": [
    "## Проект: вариант 1\n",
    "Представьте, что вы работаете в компании, которая разрабатывает мобильные игры. К вам пришел менеджер с рядом задач по исследованию нескольких аспектов мобильного приложения:\n",
    "\n",
    "1. В первую очередь, его интересует показатель retention. Напишите функцию для его подсчета.\n",
    "2. Помимо этого, в компании провели A/B тестирование наборов акционных предложений. На основе имеющихся данных определите, какой набор можно считать лучшим и на основе каких метрик стоит принять правильное решение.\n",
    "3. Предложите метрики для оценки результатов последнего прошедшего тематического события в игре.\n",
    " \n",
    "### Задание 1\n",
    "Retention – один из самых важных показателей в компании. Ваша задача – написать функцию, которая будет считать retention игроков (по дням от даты регистрации игрока). Данные лежат в папке `shared` и имеют следующую структуру:\n",
    "\n",
    "`shared/problem1-reg_data.csv` – данные о времени регистрации\n",
    "\n",
    "|reg_ts|uid |\n",
    "|------|----|\n",
    "|906166566|2|\n",
    "|906344325|3|\n",
    "|906686169|4|\n",
    "|906893386|5|\n",
    "|906980227|6|\n",
    "\n",
    "`shared/problem1-auth_data.csv` – данные о времени захода пользователей в игру\n",
    "\n",
    "|auth_ts|uid|\n",
    "|------|----|\n",
    "|906166566|2|\n",
    "|924422172|2|\n",
    "|937374732|2|\n",
    "|947425117|2|\n",
    "|955630339|2|\n",
    "\n",
    "Функция должна быть написана на python. В ходе решения можно тестировать работу функции как на полном датасете, так и на части (сэмпле) данных.\n",
    "\n",
    "### Задание 2\n",
    "Имеются результаты A/B теста, в котором двум группам пользователей предлагались различные наборы акционных предложений. Известно, что ARPU в тестовой группе выше на 5%, чем в контрольной. При этом в контрольной группе 1928 игроков из 202103 оказались платящими, а в тестовой – 1805 из 202667.\n",
    "\n",
    "Какой набор предложений можно считать лучшим? Какие метрики стоит проанализировать для принятия правильного решения и как?\n",
    "\n",
    "Формат [данных](https://disk.yandex.ru/d/SOkIsD5A8xlI7Q):\n",
    "\n",
    "|user_id|revenue|testgroup|\n",
    "|-------|-------|---------|\n",
    "|   1   |   0   |    b    |\n",
    "|   2   |   0   |    a    |\n",
    "|   3   |   0   |    a    |\n",
    "|   4   |   0   |    b    |\n",
    "|   5   |   0   |    b    |\n",
    "\n",
    "### Задание 3\n",
    "В игре Plants & Gardens каждый месяц проводятся тематические события, ограниченные по времени. В них игроки могут получить уникальные предметы для сада и персонажей, дополнительные монеты или бонусы. Для получения награды требуется пройти ряд уровней за определенное время. С помощью каких метрик можно оценить результаты последнего прошедшего события?\n",
    "\n",
    "Предположим, в другом событии мы усложнили механику событий так, что при каждой неудачной попытке выполнения уровня игрок будет откатываться на несколько уровней назад. Изменится ли набор метрик оценки результата? Если да, то как?"
   ]
  },
  {
   "cell_type": "markdown",
   "id": "61040c34",
   "metadata": {},
   "source": [
    "### Версия Jupyter Notebook\n",
    "Версия Jupyter Notebook, на которой выполнялась работа - `6.5.7`"
   ]
  },
  {
   "cell_type": "markdown",
   "id": "f7c09aee-fa77-4230-b4f5-6bb94b4a4b4a",
   "metadata": {},
   "source": [
    "### Откроем данные и импортируем библиотеки"
   ]
  },
  {
   "cell_type": "code",
   "execution_count": 231,
   "id": "b00f8206-b20a-4e18-b4d3-9b0f43bf5675",
   "metadata": {},
   "outputs": [],
   "source": [
    "# импортируем библиотеки\n",
    "import pandas as pd\n",
    "import numpy as np\n",
    "import matplotlib.pyplot as plt\n",
    "import pingouin as pg\n",
    "from scipy.stats import mannwhitneyu"
   ]
  },
  {
   "cell_type": "code",
   "execution_count": 232,
   "id": "e12c5a11-1200-466f-8c06-23ae97398c64",
   "metadata": {},
   "outputs": [],
   "source": [
    "# прочитаем данные\n",
    "try:\n",
    "    reg_data = pd.read_csv('problem1-reg_data.csv', sep = ';')\n",
    "    auth_data = pd.read_csv('problem1-auth_data.csv', sep = ';')\n",
    "except:\n",
    "    reg_data = pd.read_csv('shared/problem1-reg_data.csv', sep = ';')\n",
    "    auth_data = pd.read_csv('shared/problem1-auth_data.csv', sep = ';')"
   ]
  },
  {
   "cell_type": "code",
   "execution_count": 233,
   "id": "d40bb432-754a-43c6-a1bc-48a98f7611f2",
   "metadata": {},
   "outputs": [
    {
     "name": "stdout",
     "output_type": "stream",
     "text": [
      "Размер регистрационных данных составляет: 1000000 строк и 2 столбцов\n",
      "Размер авторизационных данных составляет: 9601013 строк и 2 столбцов\n"
     ]
    }
   ],
   "source": [
    "print(f'Размер регистрационных данных составляет: {reg_data.shape[0]} строк и {reg_data.shape[1]} столбцов')\n",
    "print(f'Размер авторизационных данных составляет: {auth_data.shape[0]} строк и {auth_data.shape[1]} столбцов')"
   ]
  },
  {
   "cell_type": "code",
   "execution_count": 234,
   "id": "e0f67f52-8ef2-4614-895f-dee83e755580",
   "metadata": {},
   "outputs": [
    {
     "data": {
      "text/html": [
       "<div>\n",
       "<style scoped>\n",
       "    .dataframe tbody tr th:only-of-type {\n",
       "        vertical-align: middle;\n",
       "    }\n",
       "\n",
       "    .dataframe tbody tr th {\n",
       "        vertical-align: top;\n",
       "    }\n",
       "\n",
       "    .dataframe thead th {\n",
       "        text-align: right;\n",
       "    }\n",
       "</style>\n",
       "<table border=\"1\" class=\"dataframe\">\n",
       "  <thead>\n",
       "    <tr style=\"text-align: right;\">\n",
       "      <th></th>\n",
       "      <th>reg_ts</th>\n",
       "      <th>uid</th>\n",
       "    </tr>\n",
       "  </thead>\n",
       "  <tbody>\n",
       "    <tr>\n",
       "      <th>0</th>\n",
       "      <td>911382223</td>\n",
       "      <td>1</td>\n",
       "    </tr>\n",
       "    <tr>\n",
       "      <th>1</th>\n",
       "      <td>932683089</td>\n",
       "      <td>2</td>\n",
       "    </tr>\n",
       "    <tr>\n",
       "      <th>2</th>\n",
       "      <td>947802447</td>\n",
       "      <td>3</td>\n",
       "    </tr>\n",
       "    <tr>\n",
       "      <th>3</th>\n",
       "      <td>959523541</td>\n",
       "      <td>4</td>\n",
       "    </tr>\n",
       "    <tr>\n",
       "      <th>4</th>\n",
       "      <td>969103313</td>\n",
       "      <td>5</td>\n",
       "    </tr>\n",
       "  </tbody>\n",
       "</table>\n",
       "</div>"
      ],
      "text/plain": [
       "      reg_ts  uid\n",
       "0  911382223    1\n",
       "1  932683089    2\n",
       "2  947802447    3\n",
       "3  959523541    4\n",
       "4  969103313    5"
      ]
     },
     "execution_count": 234,
     "metadata": {},
     "output_type": "execute_result"
    }
   ],
   "source": [
    "reg_data.head()"
   ]
  },
  {
   "cell_type": "code",
   "execution_count": 235,
   "id": "3c5d8bfe-d32b-4ba3-bdde-a6500939d6f4",
   "metadata": {},
   "outputs": [
    {
     "data": {
      "text/html": [
       "<div>\n",
       "<style scoped>\n",
       "    .dataframe tbody tr th:only-of-type {\n",
       "        vertical-align: middle;\n",
       "    }\n",
       "\n",
       "    .dataframe tbody tr th {\n",
       "        vertical-align: top;\n",
       "    }\n",
       "\n",
       "    .dataframe thead th {\n",
       "        text-align: right;\n",
       "    }\n",
       "</style>\n",
       "<table border=\"1\" class=\"dataframe\">\n",
       "  <thead>\n",
       "    <tr style=\"text-align: right;\">\n",
       "      <th></th>\n",
       "      <th>auth_ts</th>\n",
       "      <th>uid</th>\n",
       "    </tr>\n",
       "  </thead>\n",
       "  <tbody>\n",
       "    <tr>\n",
       "      <th>0</th>\n",
       "      <td>911382223</td>\n",
       "      <td>1</td>\n",
       "    </tr>\n",
       "    <tr>\n",
       "      <th>1</th>\n",
       "      <td>932683089</td>\n",
       "      <td>2</td>\n",
       "    </tr>\n",
       "    <tr>\n",
       "      <th>2</th>\n",
       "      <td>932921206</td>\n",
       "      <td>2</td>\n",
       "    </tr>\n",
       "    <tr>\n",
       "      <th>3</th>\n",
       "      <td>933393015</td>\n",
       "      <td>2</td>\n",
       "    </tr>\n",
       "    <tr>\n",
       "      <th>4</th>\n",
       "      <td>933875379</td>\n",
       "      <td>2</td>\n",
       "    </tr>\n",
       "  </tbody>\n",
       "</table>\n",
       "</div>"
      ],
      "text/plain": [
       "     auth_ts  uid\n",
       "0  911382223    1\n",
       "1  932683089    2\n",
       "2  932921206    2\n",
       "3  933393015    2\n",
       "4  933875379    2"
      ]
     },
     "execution_count": 235,
     "metadata": {},
     "output_type": "execute_result"
    }
   ],
   "source": [
    "auth_data.head()"
   ]
  },
  {
   "cell_type": "code",
   "execution_count": 236,
   "id": "0b198871-62de-4871-bfb4-9c75e8d2ccb1",
   "metadata": {},
   "outputs": [
    {
     "name": "stdout",
     "output_type": "stream",
     "text": [
      "<class 'pandas.core.frame.DataFrame'>\n",
      "RangeIndex: 1000000 entries, 0 to 999999\n",
      "Data columns (total 2 columns):\n",
      " #   Column  Non-Null Count    Dtype\n",
      "---  ------  --------------    -----\n",
      " 0   reg_ts  1000000 non-null  int64\n",
      " 1   uid     1000000 non-null  int64\n",
      "dtypes: int64(2)\n",
      "memory usage: 15.3 MB\n",
      "\n",
      "\n",
      "<class 'pandas.core.frame.DataFrame'>\n",
      "RangeIndex: 9601013 entries, 0 to 9601012\n",
      "Data columns (total 2 columns):\n",
      " #   Column   Dtype\n",
      "---  ------   -----\n",
      " 0   auth_ts  int64\n",
      " 1   uid      int64\n",
      "dtypes: int64(2)\n",
      "memory usage: 146.5 MB\n"
     ]
    }
   ],
   "source": [
    "reg_data.info()\n",
    "print()\n",
    "print()\n",
    "auth_data.info()"
   ]
  },
  {
   "cell_type": "markdown",
   "id": "4d32e06c-58f4-4d5c-99ee-81071db22ebd",
   "metadata": {},
   "source": [
    "### Выводы:\n",
    "Представлены 2 датасета: данные о времени регистрации и данные о времени захода пользователя в игру.\n",
    "\n",
    "В данных о времени регистрации содержится 1 000 000 строк и 2 столбца (id и время регистрации пользователя).\n",
    "В данных о времени авторизации содержится 9 601 013 строк и 2 столбца (id и время авторизации пользователя).\n",
    "\n",
    "Поля `reg_ts` и `auth_ts` в формате `int64`, потребуется привести данные в формат `timestamp`.\n",
    "Также проверим регистрационные данные на дубли `id`, чтобы не было повторений."
   ]
  },
  {
   "cell_type": "markdown",
   "id": "3ba7e109-63e7-46eb-9094-feb5e4ada9d0",
   "metadata": {},
   "source": [
    "### Предобработка данных"
   ]
  },
  {
   "cell_type": "code",
   "execution_count": 237,
   "id": "c8edf6bb-5699-47be-8eca-be17b2622de9",
   "metadata": {},
   "outputs": [
    {
     "name": "stdout",
     "output_type": "stream",
     "text": [
      "Количество дублей id в регистрационных данных равно: 0\n"
     ]
    }
   ],
   "source": [
    "# посмотрим данные на наличие дублей\n",
    "print(f'Количество дублей id в регистрационных данных равно:\\\n",
    " {reg_data.uid.duplicated().sum()}')"
   ]
  },
  {
   "cell_type": "code",
   "execution_count": 238,
   "id": "550f5d84-f2b2-45c5-865c-9b20317df479",
   "metadata": {},
   "outputs": [
    {
     "data": {
      "text/html": [
       "<div>\n",
       "<style scoped>\n",
       "    .dataframe tbody tr th:only-of-type {\n",
       "        vertical-align: middle;\n",
       "    }\n",
       "\n",
       "    .dataframe tbody tr th {\n",
       "        vertical-align: top;\n",
       "    }\n",
       "\n",
       "    .dataframe thead th {\n",
       "        text-align: right;\n",
       "    }\n",
       "</style>\n",
       "<table border=\"1\" class=\"dataframe\">\n",
       "  <thead>\n",
       "    <tr style=\"text-align: right;\">\n",
       "      <th></th>\n",
       "      <th>reg_ts</th>\n",
       "      <th>uid</th>\n",
       "    </tr>\n",
       "  </thead>\n",
       "  <tbody>\n",
       "    <tr>\n",
       "      <th>0</th>\n",
       "      <td>1998-11-18</td>\n",
       "      <td>1</td>\n",
       "    </tr>\n",
       "    <tr>\n",
       "      <th>1</th>\n",
       "      <td>1999-07-22</td>\n",
       "      <td>2</td>\n",
       "    </tr>\n",
       "    <tr>\n",
       "      <th>2</th>\n",
       "      <td>2000-01-13</td>\n",
       "      <td>3</td>\n",
       "    </tr>\n",
       "    <tr>\n",
       "      <th>3</th>\n",
       "      <td>2000-05-28</td>\n",
       "      <td>4</td>\n",
       "    </tr>\n",
       "    <tr>\n",
       "      <th>4</th>\n",
       "      <td>2000-09-16</td>\n",
       "      <td>5</td>\n",
       "    </tr>\n",
       "  </tbody>\n",
       "</table>\n",
       "</div>"
      ],
      "text/plain": [
       "       reg_ts  uid\n",
       "0  1998-11-18    1\n",
       "1  1999-07-22    2\n",
       "2  2000-01-13    3\n",
       "3  2000-05-28    4\n",
       "4  2000-09-16    5"
      ]
     },
     "execution_count": 238,
     "metadata": {},
     "output_type": "execute_result"
    }
   ],
   "source": [
    "# изменим тип данных полей reg_ts и auth_ts\n",
    "# время и даты уберем\n",
    "reg_data['reg_ts'] = pd.to_datetime(reg_data['reg_ts'], unit='s').dt.date\n",
    "reg_data.head()"
   ]
  },
  {
   "cell_type": "code",
   "execution_count": 239,
   "id": "070a22e8-8bb2-4c25-a901-76eee10aa92d",
   "metadata": {},
   "outputs": [
    {
     "data": {
      "text/html": [
       "<div>\n",
       "<style scoped>\n",
       "    .dataframe tbody tr th:only-of-type {\n",
       "        vertical-align: middle;\n",
       "    }\n",
       "\n",
       "    .dataframe tbody tr th {\n",
       "        vertical-align: top;\n",
       "    }\n",
       "\n",
       "    .dataframe thead th {\n",
       "        text-align: right;\n",
       "    }\n",
       "</style>\n",
       "<table border=\"1\" class=\"dataframe\">\n",
       "  <thead>\n",
       "    <tr style=\"text-align: right;\">\n",
       "      <th></th>\n",
       "      <th>auth_ts</th>\n",
       "      <th>uid</th>\n",
       "    </tr>\n",
       "  </thead>\n",
       "  <tbody>\n",
       "    <tr>\n",
       "      <th>0</th>\n",
       "      <td>1998-11-18</td>\n",
       "      <td>1</td>\n",
       "    </tr>\n",
       "    <tr>\n",
       "      <th>1</th>\n",
       "      <td>1999-07-22</td>\n",
       "      <td>2</td>\n",
       "    </tr>\n",
       "    <tr>\n",
       "      <th>2</th>\n",
       "      <td>1999-07-25</td>\n",
       "      <td>2</td>\n",
       "    </tr>\n",
       "    <tr>\n",
       "      <th>3</th>\n",
       "      <td>1999-07-31</td>\n",
       "      <td>2</td>\n",
       "    </tr>\n",
       "    <tr>\n",
       "      <th>4</th>\n",
       "      <td>1999-08-05</td>\n",
       "      <td>2</td>\n",
       "    </tr>\n",
       "  </tbody>\n",
       "</table>\n",
       "</div>"
      ],
      "text/plain": [
       "      auth_ts  uid\n",
       "0  1998-11-18    1\n",
       "1  1999-07-22    2\n",
       "2  1999-07-25    2\n",
       "3  1999-07-31    2\n",
       "4  1999-08-05    2"
      ]
     },
     "execution_count": 239,
     "metadata": {},
     "output_type": "execute_result"
    }
   ],
   "source": [
    "auth_data['auth_ts'] = pd.to_datetime(auth_data['auth_ts'], unit='s').dt.date\n",
    "auth_data.head()"
   ]
  },
  {
   "cell_type": "markdown",
   "id": "7a933921-a3d8-4b34-9558-9f84c5028179",
   "metadata": {},
   "source": [
    "### Задание 1. Напишем функцию, которая будет считать retention игроков (по дням от даты регистрации игрока)"
   ]
  },
  {
   "cell_type": "code",
   "execution_count": 240,
   "id": "456be70e-9f68-4fcc-a293-7a60a525d4ac",
   "metadata": {},
   "outputs": [],
   "source": [
    "def retention_per_day(reg_df, auth_df, reg_date, period, as_percentage=True):\n",
    "    reg_date = pd.to_datetime(reg_date)\n",
    "    \n",
    "    # сделаем преобразование строки в дату\n",
    "    reg_df['reg_ts'] = pd.to_datetime(reg_df['reg_ts'])\n",
    "    auth_df['auth_ts'] = pd.to_datetime(auth_df['auth_ts'])\n",
    "\n",
    "    # выберем когорту по дате регистрации\n",
    "    cohort_users = reg_df[reg_df['reg_ts'] == reg_date][['uid', 'reg_ts']]\n",
    "    cohort_size = cohort_users['uid'].nunique()\n",
    "\n",
    "    if cohort_size == 0:\n",
    "        return pd.DataFrame([{'cohort_size': 0,\\\n",
    "                              **{f'day_{i}': 0 for i in range(period + 1)}}])\n",
    "\n",
    "    # Слияние и расчет разницы по дням\n",
    "    merged = pd.merge(auth_df, cohort_users, on='uid', how='inner')\n",
    "    merged['day'] = (merged['auth_ts'] - merged['reg_ts']).dt.days\n",
    "    merged = merged[(merged['day'] >= 0) & (merged['day'] <= period)]\n",
    "    merged = merged.drop_duplicates(subset=['uid', 'day'])\n",
    "\n",
    "    # Расчет retention\n",
    "    retention_counts = merged.groupby('day')['uid'].nunique()\n",
    "    retention = {'cohort_size': cohort_size}\n",
    "    for day in range(period + 1):\n",
    "        count = retention_counts.get(day, 0)\n",
    "        value = round(count / cohort_size * 100, 2) if as_percentage else count\n",
    "        retention[f'Day_{day}'] = value\n",
    "\n",
    "    return pd.DataFrame([retention])"
   ]
  },
  {
   "cell_type": "markdown",
   "id": "d3be7206",
   "metadata": {},
   "source": [
    "Протестируем, выбрав даты из регистрационных данных. Выберем пользователя под id 108, который заходил в приложение несколько раз после регистрации"
   ]
  },
  {
   "cell_type": "code",
   "execution_count": 241,
   "id": "99d4f8e3-eea1-43da-b080-a2260e195e67",
   "metadata": {
    "scrolled": true
   },
   "outputs": [
    {
     "data": {
      "text/html": [
       "<div>\n",
       "<style scoped>\n",
       "    .dataframe tbody tr th:only-of-type {\n",
       "        vertical-align: middle;\n",
       "    }\n",
       "\n",
       "    .dataframe tbody tr th {\n",
       "        vertical-align: top;\n",
       "    }\n",
       "\n",
       "    .dataframe thead th {\n",
       "        text-align: right;\n",
       "    }\n",
       "</style>\n",
       "<table border=\"1\" class=\"dataframe\">\n",
       "  <thead>\n",
       "    <tr style=\"text-align: right;\">\n",
       "      <th></th>\n",
       "      <th>cohort_size</th>\n",
       "      <th>Day_0</th>\n",
       "      <th>Day_1</th>\n",
       "      <th>Day_2</th>\n",
       "      <th>Day_3</th>\n",
       "      <th>Day_4</th>\n",
       "      <th>Day_5</th>\n",
       "      <th>Day_6</th>\n",
       "      <th>Day_7</th>\n",
       "    </tr>\n",
       "  </thead>\n",
       "  <tbody>\n",
       "    <tr>\n",
       "      <th>0</th>\n",
       "      <td>1</td>\n",
       "      <td>100.0</td>\n",
       "      <td>0.0</td>\n",
       "      <td>100.0</td>\n",
       "      <td>0.0</td>\n",
       "      <td>0.0</td>\n",
       "      <td>0.0</td>\n",
       "      <td>0.0</td>\n",
       "      <td>0.0</td>\n",
       "    </tr>\n",
       "  </tbody>\n",
       "</table>\n",
       "</div>"
      ],
      "text/plain": [
       "   cohort_size  Day_0  Day_1  Day_2  Day_3  Day_4  Day_5  Day_6  Day_7\n",
       "0            1  100.0    0.0  100.0    0.0    0.0    0.0    0.0    0.0"
      ]
     },
     "metadata": {},
     "output_type": "display_data"
    }
   ],
   "source": [
    "# увеличим просматриваемость столбцов\n",
    "pd.set_option('display.max_columns',40)\n",
    "\n",
    "# протестируем функцию на данных\n",
    "result = retention_per_day(reg_data, auth_data, \"2005-05-30\", 7)\n",
    "display(result)"
   ]
  },
  {
   "cell_type": "markdown",
   "id": "0671c91b",
   "metadata": {},
   "source": [
    "Теперь также протестируем, выбрав рандомную датую."
   ]
  },
  {
   "cell_type": "code",
   "execution_count": 242,
   "id": "3e52aa10",
   "metadata": {},
   "outputs": [
    {
     "data": {
      "text/html": [
       "<div>\n",
       "<style scoped>\n",
       "    .dataframe tbody tr th:only-of-type {\n",
       "        vertical-align: middle;\n",
       "    }\n",
       "\n",
       "    .dataframe tbody tr th {\n",
       "        vertical-align: top;\n",
       "    }\n",
       "\n",
       "    .dataframe thead th {\n",
       "        text-align: right;\n",
       "    }\n",
       "</style>\n",
       "<table border=\"1\" class=\"dataframe\">\n",
       "  <thead>\n",
       "    <tr style=\"text-align: right;\">\n",
       "      <th></th>\n",
       "      <th>cohort_size</th>\n",
       "      <th>day_0</th>\n",
       "      <th>day_1</th>\n",
       "      <th>day_2</th>\n",
       "      <th>day_3</th>\n",
       "      <th>day_4</th>\n",
       "      <th>day_5</th>\n",
       "      <th>day_6</th>\n",
       "      <th>day_7</th>\n",
       "      <th>day_8</th>\n",
       "      <th>day_9</th>\n",
       "      <th>day_10</th>\n",
       "      <th>day_11</th>\n",
       "      <th>day_12</th>\n",
       "      <th>day_13</th>\n",
       "      <th>day_14</th>\n",
       "      <th>day_15</th>\n",
       "      <th>day_16</th>\n",
       "      <th>day_17</th>\n",
       "      <th>day_18</th>\n",
       "      <th>day_19</th>\n",
       "      <th>day_20</th>\n",
       "      <th>day_21</th>\n",
       "      <th>day_22</th>\n",
       "      <th>day_23</th>\n",
       "      <th>day_24</th>\n",
       "      <th>day_25</th>\n",
       "      <th>day_26</th>\n",
       "      <th>day_27</th>\n",
       "      <th>day_28</th>\n",
       "      <th>day_29</th>\n",
       "      <th>day_30</th>\n",
       "    </tr>\n",
       "  </thead>\n",
       "  <tbody>\n",
       "    <tr>\n",
       "      <th>0</th>\n",
       "      <td>0</td>\n",
       "      <td>0</td>\n",
       "      <td>0</td>\n",
       "      <td>0</td>\n",
       "      <td>0</td>\n",
       "      <td>0</td>\n",
       "      <td>0</td>\n",
       "      <td>0</td>\n",
       "      <td>0</td>\n",
       "      <td>0</td>\n",
       "      <td>0</td>\n",
       "      <td>0</td>\n",
       "      <td>0</td>\n",
       "      <td>0</td>\n",
       "      <td>0</td>\n",
       "      <td>0</td>\n",
       "      <td>0</td>\n",
       "      <td>0</td>\n",
       "      <td>0</td>\n",
       "      <td>0</td>\n",
       "      <td>0</td>\n",
       "      <td>0</td>\n",
       "      <td>0</td>\n",
       "      <td>0</td>\n",
       "      <td>0</td>\n",
       "      <td>0</td>\n",
       "      <td>0</td>\n",
       "      <td>0</td>\n",
       "      <td>0</td>\n",
       "      <td>0</td>\n",
       "      <td>0</td>\n",
       "      <td>0</td>\n",
       "    </tr>\n",
       "  </tbody>\n",
       "</table>\n",
       "</div>"
      ],
      "text/plain": [
       "   cohort_size  day_0  day_1  day_2  day_3  day_4  day_5  day_6  day_7  day_8  \\\n",
       "0            0      0      0      0      0      0      0      0      0      0   \n",
       "\n",
       "   day_9  day_10  day_11  day_12  day_13  day_14  day_15  day_16  day_17  \\\n",
       "0      0       0       0       0       0       0       0       0       0   \n",
       "\n",
       "   day_18  day_19  day_20  day_21  day_22  day_23  day_24  day_25  day_26  \\\n",
       "0       0       0       0       0       0       0       0       0       0   \n",
       "\n",
       "   day_27  day_28  day_29  day_30  \n",
       "0       0       0       0       0  "
      ]
     },
     "metadata": {},
     "output_type": "display_data"
    }
   ],
   "source": [
    "result_2 = retention_per_day(reg_data, auth_data, \"2000-03-03\", 30)\n",
    "display(result_2)"
   ]
  },
  {
   "cell_type": "markdown",
   "id": "20fa58d3",
   "metadata": {},
   "source": [
    "### Вывод:\n",
    "Была настроена функция, которая считает `retention` игроков по дням от даты регистрации. \n",
    "\n",
    "В функции необходимо указать данные о времени регистрации, данные о времени захода пользователей в игру, дату когорты и гранулярность (в днях)."
   ]
  },
  {
   "cell_type": "markdown",
   "id": "5509b29d",
   "metadata": {},
   "source": [
    "### Задание 2. Определим какой набор предложений можно считать лучшим и какие метрики стоит проанализировать для принятия правильного решения"
   ]
  },
  {
   "cell_type": "markdown",
   "id": "9b4aa9e9",
   "metadata": {},
   "source": [
    "Для начала нам необходимо проверить корректность переданной информации о том, что APRU в тестовой группе выше на 5%, чем в контрольной.\n",
    "\n",
    "ARPU - это средняя выручка на пользователя. Но ее недостаточно, чтобы сделать вывод по проведенному тесту. Посмотрим на другие метрики, которые помогут подтвердить или опровергнуть результаты A/B теста.\n",
    "\n",
    "Используем следующие метрики:\n",
    "- ARPPU (Average Revenue Per Paying User) - средний доход на платящего пользователя;\n",
    "- Конверсия в платящего пользователя;\n",
    "- LTV (Lifetime value) - долгосрочная ценность пользователей."
   ]
  },
  {
   "cell_type": "code",
   "execution_count": 243,
   "id": "fd02149e",
   "metadata": {},
   "outputs": [
    {
     "name": "stdout",
     "output_type": "stream",
     "text": [
      "Размер данных составляет: 404770 строк и 3 столбца\n"
     ]
    }
   ],
   "source": [
    "ab_test = pd.read_csv('Проект_1_Задание_2.csv', sep=';')\n",
    "print(f'Размер данных составляет: {ab_test.shape[0]} строк и {ab_test.shape[1]} столбца')"
   ]
  },
  {
   "cell_type": "code",
   "execution_count": 244,
   "id": "26019a84",
   "metadata": {},
   "outputs": [
    {
     "data": {
      "text/html": [
       "<div>\n",
       "<style scoped>\n",
       "    .dataframe tbody tr th:only-of-type {\n",
       "        vertical-align: middle;\n",
       "    }\n",
       "\n",
       "    .dataframe tbody tr th {\n",
       "        vertical-align: top;\n",
       "    }\n",
       "\n",
       "    .dataframe thead th {\n",
       "        text-align: right;\n",
       "    }\n",
       "</style>\n",
       "<table border=\"1\" class=\"dataframe\">\n",
       "  <thead>\n",
       "    <tr style=\"text-align: right;\">\n",
       "      <th></th>\n",
       "      <th>user_id</th>\n",
       "      <th>revenue</th>\n",
       "      <th>testgroup</th>\n",
       "    </tr>\n",
       "  </thead>\n",
       "  <tbody>\n",
       "    <tr>\n",
       "      <th>0</th>\n",
       "      <td>1</td>\n",
       "      <td>0</td>\n",
       "      <td>b</td>\n",
       "    </tr>\n",
       "    <tr>\n",
       "      <th>1</th>\n",
       "      <td>2</td>\n",
       "      <td>0</td>\n",
       "      <td>a</td>\n",
       "    </tr>\n",
       "    <tr>\n",
       "      <th>2</th>\n",
       "      <td>3</td>\n",
       "      <td>0</td>\n",
       "      <td>a</td>\n",
       "    </tr>\n",
       "    <tr>\n",
       "      <th>3</th>\n",
       "      <td>4</td>\n",
       "      <td>0</td>\n",
       "      <td>b</td>\n",
       "    </tr>\n",
       "    <tr>\n",
       "      <th>4</th>\n",
       "      <td>5</td>\n",
       "      <td>0</td>\n",
       "      <td>b</td>\n",
       "    </tr>\n",
       "  </tbody>\n",
       "</table>\n",
       "</div>"
      ],
      "text/plain": [
       "   user_id  revenue testgroup\n",
       "0        1        0         b\n",
       "1        2        0         a\n",
       "2        3        0         a\n",
       "3        4        0         b\n",
       "4        5        0         b"
      ]
     },
     "execution_count": 244,
     "metadata": {},
     "output_type": "execute_result"
    }
   ],
   "source": [
    "# посмотрим на часть данных\n",
    "ab_test.head()"
   ]
  },
  {
   "cell_type": "code",
   "execution_count": 245,
   "id": "34fccfb6",
   "metadata": {},
   "outputs": [
    {
     "name": "stdout",
     "output_type": "stream",
     "text": [
      "ARPU группы B выше на 5.26%\n"
     ]
    }
   ],
   "source": [
    "# перепроверим полученные данные\n",
    "# правда ли ARPU на 5% выше в тестовой группе\n",
    "users_a = ab_test.query('testgroup == \"a\"')['user_id'].nunique()\n",
    "users_b = ab_test.query('testgroup == \"b\"')['user_id'].nunique()\n",
    "\n",
    "sum_a = ab_test.query('testgroup == \"a\"')['revenue'].sum()\n",
    "sum_b = ab_test.query('testgroup == \"b\"')['revenue'].sum()\n",
    "\n",
    "arpu_a = sum_a / users_a\n",
    "arpu_b = sum_b / users_b\n",
    "\n",
    "diff_arpu = (arpu_b / arpu_a - 1) * 100\n",
    "print(f\"ARPU группы B выше на {round(diff_arpu, 2)}%\") "
   ]
  },
  {
   "cell_type": "markdown",
   "id": "faefb76c",
   "metadata": {},
   "source": [
    "Данные подтвердились. В тестовой группе выше на 5%, чем в контрольной."
   ]
  },
  {
   "cell_type": "code",
   "execution_count": 246,
   "id": "a76bff9c",
   "metadata": {},
   "outputs": [
    {
     "name": "stdout",
     "output_type": "stream",
     "text": [
      "Количество платящих пользователей в группе A: 1928\n",
      "Количество платящих пользователей в группе B: 1805\n"
     ]
    }
   ],
   "source": [
    "# проверим также кол-во платящих пользователей\n",
    "group_a = ab_test.query('testgroup == \"a\"')\n",
    "print('Количество платящих пользователей в группе A:',\\\n",
    "      group_a[group_a['revenue'] != 0]['user_id'].count())\n",
    "\n",
    "group_b = ab_test.query('testgroup == \"b\"')\n",
    "print('Количество платящих пользователей в группе B:',\\\n",
    "      group_b[group_b['revenue'] != 0]['user_id'].count())"
   ]
  },
  {
   "cell_type": "code",
   "execution_count": 247,
   "id": "4b725342",
   "metadata": {},
   "outputs": [
    {
     "data": {
      "text/html": [
       "<div>\n",
       "<style scoped>\n",
       "    .dataframe tbody tr th:only-of-type {\n",
       "        vertical-align: middle;\n",
       "    }\n",
       "\n",
       "    .dataframe tbody tr th {\n",
       "        vertical-align: top;\n",
       "    }\n",
       "\n",
       "    .dataframe thead th {\n",
       "        text-align: right;\n",
       "    }\n",
       "</style>\n",
       "<table border=\"1\" class=\"dataframe\">\n",
       "  <thead>\n",
       "    <tr style=\"text-align: right;\">\n",
       "      <th></th>\n",
       "      <th>testgroup</th>\n",
       "      <th>users</th>\n",
       "      <th>payers</th>\n",
       "      <th>CR</th>\n",
       "    </tr>\n",
       "  </thead>\n",
       "  <tbody>\n",
       "    <tr>\n",
       "      <th>0</th>\n",
       "      <td>a</td>\n",
       "      <td>202103</td>\n",
       "      <td>1928</td>\n",
       "      <td>0.953969</td>\n",
       "    </tr>\n",
       "    <tr>\n",
       "      <th>1</th>\n",
       "      <td>b</td>\n",
       "      <td>202667</td>\n",
       "      <td>1805</td>\n",
       "      <td>0.890624</td>\n",
       "    </tr>\n",
       "  </tbody>\n",
       "</table>\n",
       "</div>"
      ],
      "text/plain": [
       "  testgroup   users  payers        CR\n",
       "0         a  202103    1928  0.953969\n",
       "1         b  202667    1805  0.890624"
      ]
     },
     "metadata": {},
     "output_type": "display_data"
    }
   ],
   "source": [
    "# рассчитаем конверсию на платящего пользователя по группам\n",
    "grouped_df = ab_test.groupby('testgroup').agg(\n",
    "             users=('user_id', 'count'),\n",
    "             payers=('revenue', lambda x: (x > 0).sum())\n",
    ").reset_index()\n",
    "\n",
    "grouped_df['CR'] = grouped_df['payers'] / grouped_df['users'] * 100\n",
    "display(grouped_df)"
   ]
  },
  {
   "cell_type": "markdown",
   "id": "751bafb8",
   "metadata": {},
   "source": [
    "Как и выяснилось ранее, количество платящих клиентов в группе B стало на 6% меньше."
   ]
  },
  {
   "cell_type": "code",
   "execution_count": 248,
   "id": "279a7c97",
   "metadata": {},
   "outputs": [
    {
     "name": "stdout",
     "output_type": "stream",
     "text": [
      "ARPPU группы A: 2664.00\n",
      "ARPPU группы B: 3003.66\n"
     ]
    }
   ],
   "source": [
    "# рассчитаем метрику ARPPU\n",
    "# общий доход группы делим на число платящих клиентов\n",
    "paying_users_a = group_a[group_a['revenue'] > 0]\n",
    "paying_users_b = group_b[group_b['revenue'] > 0]\n",
    "\n",
    "arppu_a = paying_users_a['revenue'].sum() / paying_users_a.shape[0]\n",
    "arppu_b = paying_users_b['revenue'].sum() / paying_users_b.shape[0]\n",
    "\n",
    "print(f'ARPPU группы A: {arppu_a:.2f}')\n",
    "print(f'ARPPU группы B: {arppu_b:.2f}')"
   ]
  },
  {
   "cell_type": "markdown",
   "id": "0ed3a809",
   "metadata": {},
   "source": [
    "В контрольной группе средний доход на платящего пользователя выше.\n",
    "\n",
    "Из этого следует, что выводы по ARPU корректны, а также при меньшем количестве платящих пользователей, средний доход на платящего пользователя выше, что может говорить о"
   ]
  },
  {
   "cell_type": "markdown",
   "id": "e2f4cf4a",
   "metadata": {},
   "source": [
    "### Проведем статистические тесты\n",
    "\n",
    "Для начала необходимо определиться какие статистические тесты будем использовать:\n",
    "\n",
    "* **CR в платящего пользователя можно оценить при помощи Z-теста**\\\n",
    "Выбираем Z-тест, так как сравниваем доли в двух независимых группах.\n",
    "* **ARPU - тест Манна-Уитни**\\\n",
    "Выбираем тест Манна-Уитни, так как не чувствителен к выбросам, а в данных много нулей \n",
    "* **ARPPU - T-тест**\\\n",
    "Выбираем для проверки разницы средних. Также подходит, если распределение близко к нормальному."
   ]
  },
  {
   "cell_type": "markdown",
   "id": "653b2065",
   "metadata": {},
   "source": [
    "#### Z-тест на сравнение CR"
   ]
  },
  {
   "cell_type": "code",
   "execution_count": 249,
   "id": "8330f518",
   "metadata": {},
   "outputs": [
    {
     "name": "stdout",
     "output_type": "stream",
     "text": [
      "P-value, проведенного теста, равен: 0.0350\n"
     ]
    }
   ],
   "source": [
    "from statsmodels.stats.proportion import proportions_ztest\n",
    "\n",
    "payers = [paying_users_a.shape[0], paying_users_b.shape[0]]\n",
    "totals = [group_a.shape[0], group_b.shape[0]]\n",
    "\n",
    "z_stat, pval = proportions_ztest(payers, totals)\n",
    "print(f\"P-value, проведенного теста, равен: {pval:.4f}\")"
   ]
  },
  {
   "cell_type": "markdown",
   "id": "2927c3a1",
   "metadata": {},
   "source": [
    "#### Вывод по z-тесту\n",
    "Так как `p-value < 0.05`, мы можем отвергнуть нулевую гипотезу о равенстве конверсий.\n",
    "\n",
    "Следовательно, **разница в CR между группами статистически значима**. Конверсия в группе А выше, чем в группе В.\n",
    "\n",
    "Это означает, что в контрольной группе пользователи хуже конвертируются в платящих, но при этом ARPU у контрольной группы выше на 5%."
   ]
  },
  {
   "cell_type": "markdown",
   "id": "60ee3124",
   "metadata": {},
   "source": [
    "#### Тест Манна-Уитни"
   ]
  },
  {
   "cell_type": "code",
   "execution_count": 250,
   "id": "07e60719",
   "metadata": {},
   "outputs": [
    {
     "name": "stdout",
     "output_type": "stream",
     "text": [
      "Статистика U-теста: 20491259376.00\n",
      "P-value: 0.0627\n",
      "Нет статистически значимой разницы в ARPU между группами (p ≥ 0.05).\n"
     ]
    }
   ],
   "source": [
    "stat, p_value = mannwhitneyu(\n",
    "    group_a['revenue'],\n",
    "    group_b['revenue'],\n",
    "    alternative='two-sided'\n",
    ")\n",
    "\n",
    "print(f\"Статистика U-теста: {stat:.2f}\")\n",
    "print(f\"P-value: {p_value:.4f}\")\n",
    "\n",
    "if p_value < 0.05:\n",
    "    print(\"Разница в ARPU между группами статистически значима (p < 0.05).\")\n",
    "else:\n",
    "    print(\"Нет статистически значимой разницы в ARPU между группами (p ≥ 0.05).\")"
   ]
  },
  {
   "cell_type": "markdown",
   "id": "d462c7ab",
   "metadata": {},
   "source": [
    "#### Вывод:\n",
    "Контрольная группа (группа b), несмотря на 5% к ARPU, не демонстрирует статистически значимого улучшения.\n",
    "\n",
    "В текущих условиях недостаточно оснований для перехода на группу B."
   ]
  },
  {
   "cell_type": "markdown",
   "id": "3aae0d5a",
   "metadata": {},
   "source": [
    "#### T-test (метрика ARPPU)"
   ]
  },
  {
   "cell_type": "code",
   "execution_count": 251,
   "id": "ce5dcd39",
   "metadata": {},
   "outputs": [
    {
     "data": {
      "text/html": [
       "<div>\n",
       "<style scoped>\n",
       "    .dataframe tbody tr th:only-of-type {\n",
       "        vertical-align: middle;\n",
       "    }\n",
       "\n",
       "    .dataframe tbody tr th {\n",
       "        vertical-align: top;\n",
       "    }\n",
       "\n",
       "    .dataframe thead th {\n",
       "        text-align: right;\n",
       "    }\n",
       "</style>\n",
       "<table border=\"1\" class=\"dataframe\">\n",
       "  <thead>\n",
       "    <tr style=\"text-align: right;\">\n",
       "      <th></th>\n",
       "      <th>T</th>\n",
       "      <th>dof</th>\n",
       "      <th>alternative</th>\n",
       "      <th>p-val</th>\n",
       "      <th>CI95%</th>\n",
       "      <th>cohen-d</th>\n",
       "      <th>BF10</th>\n",
       "      <th>power</th>\n",
       "    </tr>\n",
       "  </thead>\n",
       "  <tbody>\n",
       "    <tr>\n",
       "      <th>T-test</th>\n",
       "      <td>-1.64463</td>\n",
       "      <td>1943.481522</td>\n",
       "      <td>two-sided</td>\n",
       "      <td>0.100208</td>\n",
       "      <td>[-744.7, 65.38]</td>\n",
       "      <td>0.052132</td>\n",
       "      <td>0.142</td>\n",
       "      <td>0.356381</td>\n",
       "    </tr>\n",
       "  </tbody>\n",
       "</table>\n",
       "</div>"
      ],
      "text/plain": [
       "              T          dof alternative     p-val            CI95%   cohen-d  \\\n",
       "T-test -1.64463  1943.481522   two-sided  0.100208  [-744.7, 65.38]  0.052132   \n",
       "\n",
       "         BF10     power  \n",
       "T-test  0.142  0.356381  "
      ]
     },
     "metadata": {},
     "output_type": "display_data"
    }
   ],
   "source": [
    "ttest_results = pg.ttest(\n",
    "    paying_users_a['revenue'],\n",
    "    paying_users_b['revenue'],\n",
    "    alternative='two-sided'\n",
    ")\n",
    "\n",
    "display(ttest_results)"
   ]
  },
  {
   "cell_type": "markdown",
   "id": "97cb0523",
   "metadata": {},
   "source": [
    "#### Вывод:\n",
    "Статистически значимой разницы в ARPPU между контрольной и тестовой группами нет.\n",
    "\n",
    "Из этого следует, что доход на пользователя примерно одинаков в обеих группах. Мы не можем рекомендовать тестовую группу B на основе ARPPU."
   ]
  },
  {
   "cell_type": "markdown",
   "id": "893a1ffb",
   "metadata": {},
   "source": [
    "### Общий вывод:\n",
    "\n",
    "На основе проведенного анализа можно сделать следующий вывод:\n",
    "\n",
    "**Лучшим можно считать набор предложений из группы A.**\n",
    "\n",
    "1. Конверсия (CR) в платящих в группе A значимо выше, чем в B.\n",
    "2. ARPU группы B выше на 5%,как и было сказано, но эта разница не статистически значима (проверено статистическим тестом Манна-Уитни).\n",
    "3. ARPPU (средний доход с платящего пользователя) также не отличается значимо между группами (проверено t-test).\n",
    "\n",
    "Таким образом, при равном доходе с платящих и более высокой конверсии, группа A обеспечивает большее общее число покупателей и, как следствие, более стабильную выручку."
   ]
  },
  {
   "cell_type": "markdown",
   "id": "5353f64f",
   "metadata": {},
   "source": [
    "### Задание 3. С помощью каких метрик можно оценить результаты последнего прошедшего события? Изменится ли набор метрик оценки результата, если мы усложним механику? Если да, то как?"
   ]
  },
  {
   "cell_type": "markdown",
   "id": "3e523408",
   "metadata": {},
   "source": [
    "Для начала ответим на базовый вопрос - с помощью каких метрик можно оценить результаты последнего прошедшего события (без откатов):\n",
    "\n",
    "1. Конверсия (доля пользователей, начавших событие) - поможет оценить интерес к проводимому событию\n",
    "\n",
    "$$\n",
    "\\text{Конверсия} = \\frac{\\text{Количество пользователей, выполнивших событие}}{\\text{Общее количество пользователей}}\n",
    "$$\n",
    "\n",
    "2. Процент игроков, прошедших все уровни (использовать дневную гранулярность). Позволит оценить сложность того или иного уровня и где пользователи теряют инетерес.\n",
    "3. Retention - позволит оценить как часто пользователи проходят событие на протяжении месяца, возращаются ли они получать бонусы или может мотивации недостаточно.\n",
    "\n",
    "Если мы усложним механику событий так, что при каждой неудачной попытке выполнения уровня игрок будет откатываться на несколько уровней назад, то следует использовать больше метрик:\n",
    "\n",
    "1. Churn - позволит понять, покидают ли пользователи игру после серии неудач\n",
    "2. Среднее количество попыток на уровень (доля неудач на каждом уровне) - позволит понять сложность уровня\n",
    "\n",
    "Следовательно, можно подвести основной итог, что в 1 сценарии пользователь не будет испытывать сильных сложностей на пути прохождения (только лутать бонусы). Основными метриками будут: участие, прогресс, завершение, удержание, полученные призы.\n",
    "\n",
    "Во 2-м сценарии проверяется стойкость пользователя. Основными метриками будут: как в 1 сценарии и дополнительно отказ и отток пользователей. В случае усложнённой механики нужно особенно внимательно следить за тем, не вызывает ли она отток или снижение удовлетворённости и, возможно, даже произвести дополнительные траты на службу поддержки, которое придется отвечать на гневные отзывы."
   ]
  }
 ],
 "metadata": {
  "kernelspec": {
   "display_name": "Python 3 (ipykernel)",
   "language": "python",
   "name": "python3"
  },
  "language_info": {
   "codemirror_mode": {
    "name": "ipython",
    "version": 3
   },
   "file_extension": ".py",
   "mimetype": "text/x-python",
   "name": "python",
   "nbconvert_exporter": "python",
   "pygments_lexer": "ipython3",
   "version": "3.11.10"
  }
 },
 "nbformat": 4,
 "nbformat_minor": 5
}
